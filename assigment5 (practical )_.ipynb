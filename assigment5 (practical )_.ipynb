{
  "nbformat": 4,
  "nbformat_minor": 0,
  "metadata": {
    "colab": {
      "provenance": []
    },
    "kernelspec": {
      "name": "python3",
      "display_name": "Python 3"
    },
    "language_info": {
      "name": "python"
    }
  },
  "cells": [
    {
      "cell_type": "code",
      "source": [
        "# 1. Create a parent class Animal with a method speak() that prints a generic message. Create a child class Dog that overrides the speak() method to print \"Bark!\".\n",
        "class Animal:\n",
        "    def speak(self):\n",
        "        print(\"Animal speaks\")\n",
        "\n",
        "class Dog(Animal):\n",
        "    def speak(self):\n",
        "        print(\"Bark!\")\n",
        "\n",
        "\n",
        "def test_animal_speak():\n",
        "    animal = Animal()\n",
        "    animal.speak()\n",
        "\n",
        "def test_dog_speak():\n",
        "    dog = Dog()\n",
        "    dog.speak()\n",
        "\n",
        "\n",
        "test_animal_speak()\n",
        "test_dog_speak()\n"
      ],
      "metadata": {
        "colab": {
          "base_uri": "https://localhost:8080/"
        },
        "id": "ymwhBOsguK4N",
        "outputId": "9cc5d322-a87d-4aa2-8bdd-3ec8c671f0be"
      },
      "execution_count": 3,
      "outputs": [
        {
          "output_type": "stream",
          "name": "stdout",
          "text": [
            "Animal speaks\n",
            "Bark!\n"
          ]
        }
      ]
    },
    {
      "cell_type": "code",
      "source": [
        "#2. Write a program to create an abstract class Shape with a method area(). Derive classes Circle and Rectangle from it and implement the area() method in both.\n",
        "from abc import ABC, abstractmethod\n",
        "import math\n",
        "\n",
        "#\n",
        "class Shape(ABC):\n",
        "    @abstractmethod\n",
        "    def area(self):\n",
        "        pass\n",
        "\n",
        "# Classes Circle and Rectangle that inherit from Shape\n",
        "class Circle(Shape):\n",
        "    def __init__(self, radius):\n",
        "        self.radius = radius\n",
        "\n",
        "    def area(self):\n",
        "        return math.pi * (self.radius ** 2)\n",
        "\n",
        "class Rectangle(Shape):\n",
        "    def __init__(self, length, width):\n",
        "        self.length = length\n",
        "        self.width = width\n",
        "\n",
        "    def area(self):\n",
        "        return self.length * self.width\n",
        "\n",
        "\n",
        "def test_shapes():\n",
        "    circle = Circle(5)\n",
        "    rectangle = Rectangle(4, 6)\n",
        "\n",
        "    print(f\"Area of Circle: {circle.area()}\")\n",
        "    print(f\"Area of Rectangle: {rectangle.area()}\")\n",
        "\n",
        "\n",
        "test_shapes()\n"
      ],
      "metadata": {
        "colab": {
          "base_uri": "https://localhost:8080/"
        },
        "id": "DRHIOI8I-ItC",
        "outputId": "343c56c5-fa65-45a6-ad04-cf493508836c"
      },
      "execution_count": 4,
      "outputs": [
        {
          "output_type": "stream",
          "name": "stdout",
          "text": [
            "Area of Circle: 78.53981633974483\n",
            "Area of Rectangle: 24\n"
          ]
        }
      ]
    },
    {
      "cell_type": "code",
      "source": [
        "# 4.. Demonstrate polymorphism by creating a base class Bird with a method fly(). Create two derived classes Sparrow and Penguin that override the fly() method.\n",
        "# Base class\n",
        "class Bird:\n",
        "    def fly(self):\n",
        "        print(\"Bird is flying...\")\n",
        "\n",
        "# Derived class Sparrow\n",
        "class Sparrow(Bird):\n",
        "    def fly(self):\n",
        "        print(\"Sparrow flies swiftly in the sky.\")\n",
        "\n",
        "# Derived class Penguin\n",
        "class Penguin(Bird):\n",
        "    def fly(self):\n",
        "        print(\"Penguin cannot fly, but it swims well.\")\n",
        "\n",
        "# Function to demonstrate polymorphism\n",
        "def demonstrate_polymorphism():\n",
        "    birds = [Sparrow(), Penguin()]  # List of different bird types\n",
        "\n",
        "    for bird in birds:\n",
        "        bird.fly()  # Each bird uses its own version of fly()\n",
        "\n",
        "# Run the test\n",
        "demonstrate_polymorphism()\n"
      ],
      "metadata": {
        "colab": {
          "base_uri": "https://localhost:8080/"
        },
        "id": "v87_NJPTF1LQ",
        "outputId": "4d05978d-1df8-428d-88a2-48caaf02deee"
      },
      "execution_count": 15,
      "outputs": [
        {
          "output_type": "stream",
          "name": "stdout",
          "text": [
            "Sparrow flies swiftly in the sky.\n",
            "Penguin cannot fly, but it swims well.\n"
          ]
        }
      ]
    },
    {
      "cell_type": "code",
      "source": [
        "#. Write a program to demonstrate encapsulation by creating a class BankAccount with private attributes balance and methods to deposit, withdraw, and check balance.\n",
        "\n",
        "class BankAccount:\n",
        "    def __init__(self, initial_balance=0):\n",
        "        self.__balance = initial_balance  # Private attribute\n",
        "\n",
        "    def deposit(self, amount):\n",
        "        \"\"\"Deposit money into the account.\"\"\"\n",
        "        if amount > 0:\n",
        "            self.__balance += amount\n",
        "            print(f\"Deposited: ₹{amount * 80}\")  # Convert to INR\n",
        "        else:\n",
        "            print(\"Deposit amount must be positive.\")\n",
        "\n",
        "    def withdraw(self, amount):\n",
        "        \"\"\"Withdraw money from the account.\"\"\"\n",
        "        if amount > 0 and amount <= self.__balance:\n",
        "            self.__balance -= amount\n",
        "            print(f\"Withdrew: ₹{amount * 80}\")  # Convert to INR\n",
        "        elif amount > self.__balance:\n",
        "            print(\"Insufficient funds!\")\n",
        "        else:\n",
        "            print(\"Withdrawal amount must be positive.\")\n",
        "\n",
        "    def check_balance(self):\n",
        "        \"\"\"Check the balance in the account.\"\"\"\n",
        "        print(f\"Current balance: ₹{self.__balance * 80}\")  # Convert to INR\n",
        "\n",
        "# Testing the class\n",
        "def test_bank_account():\n",
        "    # Creating a bank account with an initial balance of 1000\n",
        "    account = BankAccount(1000)\n",
        "\n",
        "    # Checking balance\n",
        "    account.check_balance()  # Should print the balance in INR\n",
        "\n",
        "    # Deposit money\n",
        "    account.deposit(500)\n",
        "    account.check_balance()  # Should print the updated balance in INR\n",
        "\n",
        "    # Withdraw money\n",
        "    account.withdraw(200)\n",
        "    account.check_balance()  # Should print the updated balance in INR\n",
        "\n",
        "    # Try withdrawing more than available\n",
        "    account.withdraw(2000)  # Should print \"Insufficient funds!\"\n",
        "\n",
        "    # Try depositing a negative amount\n",
        "    account.deposit(-100)  # Should print \"Deposit amount must be positive.\"\n",
        "\n",
        "# Run the test\n",
        "test_bank_account()\n"
      ],
      "metadata": {
        "colab": {
          "base_uri": "https://localhost:8080/"
        },
        "id": "puzW18Fz-zaD",
        "outputId": "40e18616-055e-4d68-e995-d8fd2f035932"
      },
      "execution_count": 16,
      "outputs": [
        {
          "output_type": "stream",
          "name": "stdout",
          "text": [
            "Current balance: ₹80000\n",
            "Deposited: ₹40000\n",
            "Current balance: ₹120000\n",
            "Withdrew: ₹16000\n",
            "Current balance: ₹104000\n",
            "Insufficient funds!\n",
            "Deposit amount must be positive.\n"
          ]
        }
      ]
    },
    {
      "cell_type": "code",
      "source": [
        "# 6.Demonstrate runtime polymorphism using a method play() in a base class Instrument. Derive classes Guitar and Piano that implement their own version of play().\n",
        "\n",
        "class Instrument:\n",
        "    def play(self):\n",
        "        print(\"Playing an instrument...\")\n",
        "\n",
        "\n",
        "class Guitar(Instrument):\n",
        "    def play(self):\n",
        "        print(\"Strumming the guitar strings.\")\n",
        "\n",
        "\n",
        "class Piano(Instrument):\n",
        "    def play(self):\n",
        "        print(\"Playing the piano keys.\")\n",
        "\n",
        "def demonstrate_runtime_polymorphism():\n",
        "    instruments = [Guitar(), Piano()]\n",
        "\n",
        "    for instrument in instruments:\n",
        "        instrument.play()\n",
        "\n",
        "demonstrate_runtime_polymorphism()\n",
        ""
      ],
      "metadata": {
        "colab": {
          "base_uri": "https://localhost:8080/"
        },
        "id": "p7JCfFYME7X6",
        "outputId": "f40ffa67-be90-492f-df7e-99d72e19a8de"
      },
      "execution_count": 2,
      "outputs": [
        {
          "output_type": "stream",
          "name": "stdout",
          "text": [
            "Strumming the guitar strings.\n",
            "Playing the piano keys.\n"
          ]
        }
      ]
    },
    {
      "cell_type": "code",
      "source": [
        "#7.7. Create a class MathOperations with a class method add_numbers() to add two numbers and a static method subtract_numbers() to subtract two numbers.\n",
        "class MathOperations:\n",
        "    @classmethod\n",
        "    def add_numbers(cls, a, b):\n",
        "        \"\"\"Class method to add two numbers.\"\"\"\n",
        "        return a + b\n",
        "\n",
        "    @staticmethod\n",
        "    def subtract_numbers(a, b):\n",
        "        \"\"\"Static method to subtract two numbers.\"\"\"\n",
        "        return a - b\n",
        "\n",
        "# Testing the methods\n",
        "def test_math_operations():\n",
        "    # Using class method\n",
        "    sum_result = MathOperations.add_numbers(10, 5)\n",
        "    print(f\"Sum: {sum_result}\")\n",
        "\n",
        "    # Using static method\n",
        "    diff_result = MathOperations.subtract_numbers(10, 5)\n",
        "    print(f\"Difference: {diff_result}\")\n",
        "\n",
        "# Run the test\n",
        "test_math_operations()\n"
      ],
      "metadata": {
        "colab": {
          "base_uri": "https://localhost:8080/"
        },
        "id": "lnM31a6jnezf",
        "outputId": "c74f7e01-339e-4c93-da3b-6fe56fc7669c"
      },
      "execution_count": 3,
      "outputs": [
        {
          "output_type": "stream",
          "name": "stdout",
          "text": [
            "Sum: 15\n",
            "Difference: 5\n"
          ]
        }
      ]
    },
    {
      "cell_type": "code",
      "source": [
        "# 8. Implement a class Person with a class method to count the total number of persons created.\n",
        "class Person:\n",
        "    count = 0  # Class variable to keep track of person count\n",
        "\n",
        "    def __init__(self, name):\n",
        "        self.name = name\n",
        "        Person.count += 1  # Increment count when a new person is created\n",
        "\n",
        "    @classmethod\n",
        "    def get_person_count(cls):\n",
        "        \"\"\"Class method to return total number of Person instances.\"\"\"\n",
        "        return cls.count\n",
        "\n",
        "# Testing the class\n",
        "def test_person_count():\n",
        "    p1 = Person(\"amit \")\n",
        "    p2 = Person(\"ronit \")\n",
        "    p3 = Person(\"sonit\")\n",
        "    p4 = Person(\"sonit\")\n",
        "\n",
        "    print(f\"Total persons created: {Person.get_person_count()}\")  # Output: 3\n",
        "\n",
        "# Run the test\n",
        "test_person_count()\n"
      ],
      "metadata": {
        "colab": {
          "base_uri": "https://localhost:8080/"
        },
        "id": "27UY7kcfoCDz",
        "outputId": "fc8ee57e-a358-4380-94cc-a9f2345e360d"
      },
      "execution_count": 5,
      "outputs": [
        {
          "output_type": "stream",
          "name": "stdout",
          "text": [
            "Total persons created: 4\n"
          ]
        }
      ]
    },
    {
      "cell_type": "code",
      "source": [
        "#9. Write a class Function with attributes numerator and denominator. Override the str method to display the fation as \"numerator/denominator\".\n",
        "class Fraction:\n",
        "    # Constructor to initialize numerator and denominator\n",
        "    def __init__(self, top, bottom):\n",
        "        if bottom == 0:\n",
        "            print(\"Denominator cannot be zero.\")\n",
        "            return\n",
        "        self.numerator = top\n",
        "        self.denominator = bottom\n",
        "\n",
        "    # This method defines how the object will look when printed\n",
        "    def __str__(self):\n",
        "        return f\"{self.numerator}/{self.denominator}\"\n",
        "\n",
        "# Testing the class\n",
        "def test_fraction():\n",
        "    f1 = Fraction(2, 5)\n",
        "    print(\"First fraction is:\", f1)\n",
        "\n",
        "    f2 = Fraction(7, 3)\n",
        "    print(\"Second fraction is:\", f2)\n",
        "\n",
        "# Run the test\n",
        "test_fraction()\n"
      ],
      "metadata": {
        "colab": {
          "base_uri": "https://localhost:8080/"
        },
        "id": "r8CQE95XpsQR",
        "outputId": "0ddb3300-51cd-4ff5-bcb6-a1dfe859f323"
      },
      "execution_count": 6,
      "outputs": [
        {
          "output_type": "stream",
          "name": "stdout",
          "text": [
            "First fraction is: 2/5\n",
            "Second fraction is: 7/3\n"
          ]
        }
      ]
    },
    {
      "cell_type": "code",
      "source": [
        "# 10.Demonstrate operator overloading by creating a class Vector and overriding the add method to add two vectors.\n",
        "class Vector:\n",
        "    # Constructor to store x and y coordinates of the vector\n",
        "    def __init__(self, x, y):\n",
        "        self.x = x\n",
        "        self.y = y\n",
        "\n",
        "    # This method tells Python how to add two vectors using +\n",
        "    def __add__(self, other):\n",
        "        new_x = self.x + other.x\n",
        "        new_y = self.y + other.y\n",
        "        return Vector(new_x, new_y)\n",
        "\n",
        "    # How the object should look when printed\n",
        "    def __str__(self):\n",
        "        return f\"({self.x}, {self.y})\"\n",
        "\n",
        "# Testing the Vector class\n",
        "def test_vector():\n",
        "    v1 = Vector(2, 3)\n",
        "    v2 = Vector(4, 5)\n",
        "\n",
        "    print(\"Vector 1:\", v1)\n",
        "    print(\"Vector 2:\", v2)\n",
        "\n",
        "    v3 = v1 + v2  # This uses our __add__ method\n",
        "    print(\"Sum of vectors:\", v3)\n",
        "\n",
        "# Run the test\n",
        "test_vector()\n"
      ],
      "metadata": {
        "colab": {
          "base_uri": "https://localhost:8080/"
        },
        "id": "yiqrSLpArn3H",
        "outputId": "b16abffc-d087-4fd0-c513-824672493dcc"
      },
      "execution_count": 8,
      "outputs": [
        {
          "output_type": "stream",
          "name": "stdout",
          "text": [
            "Vector 1: (2, 3)\n",
            "Vector 2: (4, 5)\n",
            "Sum of vectors: (6, 8)\n"
          ]
        }
      ]
    },
    {
      "cell_type": "code",
      "source": [
        "#11. Create a class Person with attributes name and age. Add a method greet() that prints \"Hello, my name is {name} and I am {age} years old.\"\n",
        "class Person:\n",
        "    # Constructor to set name and age\n",
        "    def __init__(self, name, age):\n",
        "        self.name = name\n",
        "        self.age = age\n",
        "\n",
        "    # Method to greet using name and age\n",
        "    def greet(self):\n",
        "        print(f\"Hello, my name is {self.name} and I am {self.age} years old.\")\n",
        "\n",
        "# Testing the class\n",
        "def test_person():\n",
        "    p1 = Person(\"Amit\", 25)\n",
        "    p1.greet()\n",
        "\n",
        "    p2 = Person(\"Anjali \", 30)\n",
        "    p2.greet()\n",
        "\n",
        "# Run the test\n",
        "test_person()\n"
      ],
      "metadata": {
        "colab": {
          "base_uri": "https://localhost:8080/"
        },
        "id": "3_mjy_fWsXkl",
        "outputId": "cc64edf9-6a86-4a28-fa11-45416120875c"
      },
      "execution_count": 10,
      "outputs": [
        {
          "output_type": "stream",
          "name": "stdout",
          "text": [
            "Hello, my name is Amit and I am 25 years old.\n",
            "Hello, my name is Anjali  and I am 30 years old.\n"
          ]
        }
      ]
    },
    {
      "cell_type": "code",
      "source": [
        "#12. Implement a class Student with attributes name and grades. Create a method average_grade() to compute the average of the grades.\n",
        "class Student:\n",
        "    # Constructor to set name and list of grades\n",
        "    def __init__(self, name, grades):\n",
        "        self.name = name\n",
        "        self.grades = grades  # This should be a list of numbers\n",
        "\n",
        "    # Method to calculate average grade\n",
        "    def average_grade(self):\n",
        "        if len(self.grades) == 0:\n",
        "            return 0\n",
        "        return sum(self.grades) / len(self.grades)\n",
        "\n",
        "# Testing the class\n",
        "def test_student():\n",
        "    s1 = Student(\"Amit\", [85, 90, 78, 92])\n",
        "    print(f\"{s1.name}'s average grade is: {s1.average_grade():.2f}\")\n",
        "\n",
        "    s2 = Student(\"Neha\", [70, 80, 65])\n",
        "    print(f\"{s2.name}'s average grade is: {s2.average_grade():.2f}\")\n",
        "\n",
        "# Run the test\n",
        "test_student()\n"
      ],
      "metadata": {
        "colab": {
          "base_uri": "https://localhost:8080/"
        },
        "id": "z9aE7EWRtWMm",
        "outputId": "74ebd88b-17a9-4f7c-970b-0a45d71c90db"
      },
      "execution_count": 11,
      "outputs": [
        {
          "output_type": "stream",
          "name": "stdout",
          "text": [
            "Amit's average grade is: 86.25\n",
            "Neha's average grade is: 71.67\n"
          ]
        }
      ]
    },
    {
      "cell_type": "code",
      "source": [
        "#13.13. Create a class Rectangle with methods set_dimensions() to set the dimensions and area() to calculate the area.\n",
        "class Rectangle:\n",
        "    # Method to set the dimensions of the rectangle\n",
        "    def set_dimensions(self, length, width):\n",
        "        self.length = length\n",
        "        self.width = width\n",
        "\n",
        "    # Method to calculate and return the area\n",
        "    def area(self):\n",
        "        return self.length * self.width\n",
        "\n",
        "# Testing the Rectangle class\n",
        "def test_rectangle():\n",
        "    r1 = Rectangle()\n",
        "    r1.set_dimensions(10, 5)\n",
        "    print(f\"Area of rectangle is: {r1.area()}\")\n",
        "\n",
        "    r2 = Rectangle()\n",
        "    r2.set_dimensions(7, 3)\n",
        "    print(f\"Area of second rectangle is: {r2.area()}\")\n",
        "\n",
        "# Run the test\n",
        "test_rectangle()\n"
      ],
      "metadata": {
        "colab": {
          "base_uri": "https://localhost:8080/"
        },
        "id": "o8vWVQb-t3h5",
        "outputId": "e6c90b6f-1100-4833-c61a-91e0ca317ed0"
      },
      "execution_count": 12,
      "outputs": [
        {
          "output_type": "stream",
          "name": "stdout",
          "text": [
            "Area of rectangle is: 50\n",
            "Area of second rectangle is: 21\n"
          ]
        }
      ]
    },
    {
      "cell_type": "code",
      "source": [
        "#14. Create a class Employee with a method calculate_salary() that computes the salary based on hours worked and hourly rate. Create a derived class Manager that adds a bonus to the salary.\n",
        "\n",
        "# Base class\n",
        "class Employee:\n",
        "    def __init__(self, name, hours_worked, hourly_rate):\n",
        "        self.name = name\n",
        "        self.hours_worked = hours_worked\n",
        "        self.hourly_rate = hourly_rate\n",
        "\n",
        "    def calculate_salary(self):\n",
        "        return self.hours_worked * self.hourly_rate\n",
        "\n",
        "# Derived class\n",
        "class Manager(Employee):\n",
        "    def __init__(self, name, hours_worked, hourly_rate, bonus):\n",
        "        super().__init__(name, hours_worked, hourly_rate)  # Call Employee constructor\n",
        "        self.bonus = bonus\n",
        "\n",
        "    def calculate_salary(self):\n",
        "        base_salary = super().calculate_salary()\n",
        "        return base_salary + self.bonus\n",
        "\n",
        "# testing the classes\n",
        "def test_employee_and_manager():\n",
        "    emp = Employee(\"Amit\", 40, 200)\n",
        "    print(f\"{emp.name}'s Salary: ₹{emp.calculate_salary()}\")\n",
        "\n",
        "    mgr = Manager(\"Neha\", 45, 250, 5000)\n",
        "    print(f\"{mgr.name}'s Salary (with bonus): ₹{mgr.calculate_salary()}\")\n",
        "\n",
        "# run the test\n",
        "test_employee_and_manager()\n"
      ],
      "metadata": {
        "colab": {
          "base_uri": "https://localhost:8080/"
        },
        "id": "Z5Oi_8D3ueIs",
        "outputId": "34efad9f-782d-40b1-b378-53a5fdd5ddc5"
      },
      "execution_count": 13,
      "outputs": [
        {
          "output_type": "stream",
          "name": "stdout",
          "text": [
            "Amit's Salary: ₹8000\n",
            "Neha's Salary (with bonus): ₹16250\n"
          ]
        }
      ]
    },
    {
      "cell_type": "code",
      "source": [
        "#15. Create a class Product with attributes name, price, and quantity. Implement a method total_price() that calculates the total price of the product.\n",
        "class Product:\n",
        "    # Constructor to set name, price per item, and quantity\n",
        "    def __init__(self, name, price, quantity):\n",
        "        self.name = name\n",
        "        self.price = price\n",
        "        self.quantity = quantity\n",
        "\n",
        "    # Method to calculate total price\n",
        "    def total_price(self):\n",
        "        return self.price * self.quantity\n",
        "\n",
        "# Testing the Product class\n",
        "def test_product():\n",
        "    p1 = Product(\"Pen\", 10, 5)\n",
        "    print(f\"Total price for {p1.quantity} {p1.name}s: ₹{p1.total_price()}\")\n",
        "\n",
        "    p2 = Product(\"Notebook\", 50, 3)\n",
        "    print(f\"Total price for {p2.quantity} {p2.name}s: ₹{p2.total_price()}\")\n",
        "\n",
        "# Run the test\n",
        "test_product()\n",
        "\n"
      ],
      "metadata": {
        "colab": {
          "base_uri": "https://localhost:8080/"
        },
        "id": "XIkxgobgvOvt",
        "outputId": "6e977932-44e4-4721-8f98-6335ae61e75b"
      },
      "execution_count": 14,
      "outputs": [
        {
          "output_type": "stream",
          "name": "stdout",
          "text": [
            "Total price for 5 Pens: ₹50\n",
            "Total price for 3 Notebooks: ₹150\n"
          ]
        }
      ]
    },
    {
      "cell_type": "code",
      "source": [
        "#16. Create a class Animal with an abstract method sound(). Create two derived classes Cow and Sheep that implement the sound() method.\n",
        "from abc import ABC, abstractmethod\n",
        "\n",
        "# Abstract class\n",
        "class Animal(ABC):\n",
        "    # Abstract method that must be implemented by subclasses\n",
        "    @abstractmethod\n",
        "    def sound(self):\n",
        "        pass\n",
        "\n",
        "# Derived class Cow\n",
        "class Cow(Animal):\n",
        "    def sound(self):\n",
        "        print(\"Moo!\")\n",
        "\n",
        "# Derived class Sheep\n",
        "class Sheep(Animal):\n",
        "    def sound(self):\n",
        "        print(\"Baa!\")\n",
        "\n",
        "# Testing the classes\n",
        "def test_animal_sounds():\n",
        "    cow = Cow()\n",
        "    cow.sound()  # Outputs: Moo!\n",
        "\n",
        "    sheep = Sheep()\n",
        "    sheep.sound()  # Outputs: Baa!\n",
        "\n",
        "# Run the test\n",
        "test_animal_sounds()\n"
      ],
      "metadata": {
        "colab": {
          "base_uri": "https://localhost:8080/"
        },
        "id": "H9R7KTvIzTJ1",
        "outputId": "9771ad51-84ed-48ff-c063-a48c3766aaa6"
      },
      "execution_count": 15,
      "outputs": [
        {
          "output_type": "stream",
          "name": "stdout",
          "text": [
            "Moo!\n",
            "Baa!\n"
          ]
        }
      ]
    },
    {
      "cell_type": "code",
      "source": [
        "#17. Create a class Book with attributes title, author, and year_published. Add a method get_book_info() that returns a formatted string with the book's details.\n",
        "class Book:\n",
        "    # Constructor to set title, author, and year\n",
        "    def __init__(self, title, author, year_published):\n",
        "        self.title = title\n",
        "        self.author = author\n",
        "        self.year_published = year_published\n",
        "\n",
        "    # Method to return book info as a formatted string\n",
        "    def get_book_info(self):\n",
        "        return f\"'{self.title}' by {self.author}, published in {self.year_published}\"\n",
        "\n",
        "# Testing the Book class\n",
        "def test_book():\n",
        "    b1 = Book(\"Wings of Fire\", \"jgadish narayan  \", 1999)\n",
        "    print(b1.get_book_info())\n",
        "\n",
        "    b2 = Book(\"The Alchemist\", \"Markel stalin \", 1988)\n",
        "    print(b2.get_book_info())\n",
        "\n",
        "# Run the test\n",
        "test_book()\n"
      ],
      "metadata": {
        "colab": {
          "base_uri": "https://localhost:8080/"
        },
        "id": "CXdevndB0x4L",
        "outputId": "efdbe36c-4fc0-48b9-e25d-40143ecfae15"
      },
      "execution_count": 18,
      "outputs": [
        {
          "output_type": "stream",
          "name": "stdout",
          "text": [
            "'Wings of Fire' by jgadish narayan  , published in 1999\n",
            "'The Alchemist' by Markel stalin , published in 1988\n"
          ]
        }
      ]
    },
    {
      "cell_type": "code",
      "source": [
        "#18.18. Create a class House with attributes address and price. Create a derived class Mansion that adds an attribute number_of_rooms.\n",
        "# Base class\n",
        "class House:\n",
        "    def __init__(self, address, price):\n",
        "        self.address = address\n",
        "        self.price = price\n",
        "\n",
        "    def get_info(self):\n",
        "        return f\"Address: {self.address}, Price: ₹{self.price}\"\n",
        "\n",
        "# Derived class\n",
        "class Mansion(House):\n",
        "    def __init__(self, address, price, number_of_rooms):\n",
        "        super().__init__(address, price)  # Use base class constructor\n",
        "        self.number_of_rooms = number_of_rooms\n",
        "\n",
        "    def get_info(self):\n",
        "        # Add room info to the base class get_info\n",
        "        return f\"{super().get_info()}, Rooms: {self.number_of_rooms}\"\n",
        "\n",
        "# Testing the classes\n",
        "def test_house_and_mansion():\n",
        "    h1 = House(\"123 Main Street\", 5000000)\n",
        "    print(\"House:\", h1.get_info())\n",
        "\n",
        "    m1 = Mansion(\"456 Rich Lane\", 20000000, 10)\n",
        "    print(\"Mansion:\", m1.get_info())\n",
        "\n",
        "# Run the test\n",
        "test_house_and_mansion()\n"
      ],
      "metadata": {
        "colab": {
          "base_uri": "https://localhost:8080/"
        },
        "id": "szUiT3oc29em",
        "outputId": "f53c52b7-4edc-4e4a-c250-1f8081fda6d8"
      },
      "execution_count": 19,
      "outputs": [
        {
          "output_type": "stream",
          "name": "stdout",
          "text": [
            "House: Address: 123 Main Street, Price: ₹5000000\n",
            "Mansion: Address: 456 Rich Lane, Price: ₹20000000, Rooms: 10\n"
          ]
        }
      ]
    }
  ]
}